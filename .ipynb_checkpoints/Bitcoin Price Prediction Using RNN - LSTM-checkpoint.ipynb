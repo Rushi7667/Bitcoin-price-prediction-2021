{
 "cells": [
  {
   "cell_type": "code",
   "execution_count": 1,
   "metadata": {},
   "outputs": [],
   "source": [
    "import numpy as np\n",
    "import matplotlib.pyplot as plt\n",
    "import pandas as pd\n",
    "from sklearn.preprocessing import MinMaxScaler"
   ]
  },
  {
   "cell_type": "code",
   "execution_count": 2,
   "metadata": {},
   "outputs": [
    {
     "data": {
      "text/html": [
       "<div>\n",
       "<style scoped>\n",
       "    .dataframe tbody tr th:only-of-type {\n",
       "        vertical-align: middle;\n",
       "    }\n",
       "\n",
       "    .dataframe tbody tr th {\n",
       "        vertical-align: top;\n",
       "    }\n",
       "\n",
       "    .dataframe thead th {\n",
       "        text-align: right;\n",
       "    }\n",
       "</style>\n",
       "<table border=\"1\" class=\"dataframe\">\n",
       "  <thead>\n",
       "    <tr style=\"text-align: right;\">\n",
       "      <th></th>\n",
       "      <th>Date</th>\n",
       "      <th>Open</th>\n",
       "      <th>High</th>\n",
       "      <th>Low</th>\n",
       "      <th>Close</th>\n",
       "      <th>Adj Close</th>\n",
       "      <th>Volume</th>\n",
       "    </tr>\n",
       "  </thead>\n",
       "  <tbody>\n",
       "    <tr>\n",
       "      <th>2869</th>\n",
       "      <td>2022-07-26</td>\n",
       "      <td>21361.121094</td>\n",
       "      <td>21361.121094</td>\n",
       "      <td>20776.816406</td>\n",
       "      <td>21239.753906</td>\n",
       "      <td>21239.753906</td>\n",
       "      <td>28624673855</td>\n",
       "    </tr>\n",
       "    <tr>\n",
       "      <th>2870</th>\n",
       "      <td>2022-07-27</td>\n",
       "      <td>21244.169922</td>\n",
       "      <td>22986.529297</td>\n",
       "      <td>21070.806641</td>\n",
       "      <td>22930.548828</td>\n",
       "      <td>22930.548828</td>\n",
       "      <td>31758955233</td>\n",
       "    </tr>\n",
       "    <tr>\n",
       "      <th>2871</th>\n",
       "      <td>2022-07-28</td>\n",
       "      <td>22933.640625</td>\n",
       "      <td>24110.470703</td>\n",
       "      <td>22722.265625</td>\n",
       "      <td>23843.886719</td>\n",
       "      <td>23843.886719</td>\n",
       "      <td>40212386158</td>\n",
       "    </tr>\n",
       "    <tr>\n",
       "      <th>2872</th>\n",
       "      <td>2022-07-29</td>\n",
       "      <td>23845.212891</td>\n",
       "      <td>24294.787109</td>\n",
       "      <td>23481.173828</td>\n",
       "      <td>23804.632813</td>\n",
       "      <td>23804.632813</td>\n",
       "      <td>35887249746</td>\n",
       "    </tr>\n",
       "    <tr>\n",
       "      <th>2873</th>\n",
       "      <td>2022-07-30</td>\n",
       "      <td>23809.408203</td>\n",
       "      <td>23934.220703</td>\n",
       "      <td>23752.726563</td>\n",
       "      <td>23770.847656</td>\n",
       "      <td>23770.847656</td>\n",
       "      <td>35147595776</td>\n",
       "    </tr>\n",
       "  </tbody>\n",
       "</table>\n",
       "</div>"
      ],
      "text/plain": [
       "            Date          Open          High           Low         Close  \\\n",
       "2869  2022-07-26  21361.121094  21361.121094  20776.816406  21239.753906   \n",
       "2870  2022-07-27  21244.169922  22986.529297  21070.806641  22930.548828   \n",
       "2871  2022-07-28  22933.640625  24110.470703  22722.265625  23843.886719   \n",
       "2872  2022-07-29  23845.212891  24294.787109  23481.173828  23804.632813   \n",
       "2873  2022-07-30  23809.408203  23934.220703  23752.726563  23770.847656   \n",
       "\n",
       "         Adj Close       Volume  \n",
       "2869  21239.753906  28624673855  \n",
       "2870  22930.548828  31758955233  \n",
       "2871  23843.886719  40212386158  \n",
       "2872  23804.632813  35887249746  \n",
       "2873  23770.847656  35147595776  "
      ]
     },
     "execution_count": 2,
     "metadata": {},
     "output_type": "execute_result"
    }
   ],
   "source": [
    "data = pd.read_csv('BTC-USD.csv', date_parser = True)\n",
    "data.tail()"
   ]
  },
  {
   "cell_type": "code",
   "execution_count": 3,
   "metadata": {},
   "outputs": [
    {
     "data": {
      "text/html": [
       "<div>\n",
       "<style scoped>\n",
       "    .dataframe tbody tr th:only-of-type {\n",
       "        vertical-align: middle;\n",
       "    }\n",
       "\n",
       "    .dataframe tbody tr th {\n",
       "        vertical-align: top;\n",
       "    }\n",
       "\n",
       "    .dataframe thead th {\n",
       "        text-align: right;\n",
       "    }\n",
       "</style>\n",
       "<table border=\"1\" class=\"dataframe\">\n",
       "  <thead>\n",
       "    <tr style=\"text-align: right;\">\n",
       "      <th></th>\n",
       "      <th>Date</th>\n",
       "      <th>Open</th>\n",
       "      <th>High</th>\n",
       "      <th>Low</th>\n",
       "      <th>Close</th>\n",
       "      <th>Adj Close</th>\n",
       "      <th>Volume</th>\n",
       "    </tr>\n",
       "  </thead>\n",
       "  <tbody>\n",
       "    <tr>\n",
       "      <th>0</th>\n",
       "      <td>2014-09-17</td>\n",
       "      <td>465.864014</td>\n",
       "      <td>468.174011</td>\n",
       "      <td>452.421997</td>\n",
       "      <td>457.334015</td>\n",
       "      <td>457.334015</td>\n",
       "      <td>21056800</td>\n",
       "    </tr>\n",
       "    <tr>\n",
       "      <th>1</th>\n",
       "      <td>2014-09-18</td>\n",
       "      <td>456.859985</td>\n",
       "      <td>456.859985</td>\n",
       "      <td>413.104004</td>\n",
       "      <td>424.440002</td>\n",
       "      <td>424.440002</td>\n",
       "      <td>34483200</td>\n",
       "    </tr>\n",
       "    <tr>\n",
       "      <th>2</th>\n",
       "      <td>2014-09-19</td>\n",
       "      <td>424.102997</td>\n",
       "      <td>427.834991</td>\n",
       "      <td>384.532013</td>\n",
       "      <td>394.795990</td>\n",
       "      <td>394.795990</td>\n",
       "      <td>37919700</td>\n",
       "    </tr>\n",
       "    <tr>\n",
       "      <th>3</th>\n",
       "      <td>2014-09-20</td>\n",
       "      <td>394.673004</td>\n",
       "      <td>423.295990</td>\n",
       "      <td>389.882996</td>\n",
       "      <td>408.903992</td>\n",
       "      <td>408.903992</td>\n",
       "      <td>36863600</td>\n",
       "    </tr>\n",
       "    <tr>\n",
       "      <th>4</th>\n",
       "      <td>2014-09-21</td>\n",
       "      <td>408.084991</td>\n",
       "      <td>412.425995</td>\n",
       "      <td>393.181000</td>\n",
       "      <td>398.821014</td>\n",
       "      <td>398.821014</td>\n",
       "      <td>26580100</td>\n",
       "    </tr>\n",
       "    <tr>\n",
       "      <th>...</th>\n",
       "      <td>...</td>\n",
       "      <td>...</td>\n",
       "      <td>...</td>\n",
       "      <td>...</td>\n",
       "      <td>...</td>\n",
       "      <td>...</td>\n",
       "      <td>...</td>\n",
       "    </tr>\n",
       "    <tr>\n",
       "      <th>2658</th>\n",
       "      <td>2021-12-27</td>\n",
       "      <td>50802.609375</td>\n",
       "      <td>51956.328125</td>\n",
       "      <td>50499.468750</td>\n",
       "      <td>50640.417969</td>\n",
       "      <td>50640.417969</td>\n",
       "      <td>24324345758</td>\n",
       "    </tr>\n",
       "    <tr>\n",
       "      <th>2659</th>\n",
       "      <td>2021-12-28</td>\n",
       "      <td>50679.859375</td>\n",
       "      <td>50679.859375</td>\n",
       "      <td>47414.210938</td>\n",
       "      <td>47588.855469</td>\n",
       "      <td>47588.855469</td>\n",
       "      <td>33430376883</td>\n",
       "    </tr>\n",
       "    <tr>\n",
       "      <th>2660</th>\n",
       "      <td>2021-12-29</td>\n",
       "      <td>47623.871094</td>\n",
       "      <td>48119.742188</td>\n",
       "      <td>46201.496094</td>\n",
       "      <td>46444.710938</td>\n",
       "      <td>46444.710938</td>\n",
       "      <td>30049226299</td>\n",
       "    </tr>\n",
       "    <tr>\n",
       "      <th>2661</th>\n",
       "      <td>2021-12-30</td>\n",
       "      <td>46490.605469</td>\n",
       "      <td>47879.964844</td>\n",
       "      <td>46060.312500</td>\n",
       "      <td>47178.125000</td>\n",
       "      <td>47178.125000</td>\n",
       "      <td>26686491018</td>\n",
       "    </tr>\n",
       "    <tr>\n",
       "      <th>2662</th>\n",
       "      <td>2021-12-31</td>\n",
       "      <td>47169.371094</td>\n",
       "      <td>48472.527344</td>\n",
       "      <td>45819.953125</td>\n",
       "      <td>46306.445313</td>\n",
       "      <td>46306.445313</td>\n",
       "      <td>36974172400</td>\n",
       "    </tr>\n",
       "  </tbody>\n",
       "</table>\n",
       "<p>2663 rows × 7 columns</p>\n",
       "</div>"
      ],
      "text/plain": [
       "            Date          Open          High           Low         Close  \\\n",
       "0     2014-09-17    465.864014    468.174011    452.421997    457.334015   \n",
       "1     2014-09-18    456.859985    456.859985    413.104004    424.440002   \n",
       "2     2014-09-19    424.102997    427.834991    384.532013    394.795990   \n",
       "3     2014-09-20    394.673004    423.295990    389.882996    408.903992   \n",
       "4     2014-09-21    408.084991    412.425995    393.181000    398.821014   \n",
       "...          ...           ...           ...           ...           ...   \n",
       "2658  2021-12-27  50802.609375  51956.328125  50499.468750  50640.417969   \n",
       "2659  2021-12-28  50679.859375  50679.859375  47414.210938  47588.855469   \n",
       "2660  2021-12-29  47623.871094  48119.742188  46201.496094  46444.710938   \n",
       "2661  2021-12-30  46490.605469  47879.964844  46060.312500  47178.125000   \n",
       "2662  2021-12-31  47169.371094  48472.527344  45819.953125  46306.445313   \n",
       "\n",
       "         Adj Close       Volume  \n",
       "0       457.334015     21056800  \n",
       "1       424.440002     34483200  \n",
       "2       394.795990     37919700  \n",
       "3       408.903992     36863600  \n",
       "4       398.821014     26580100  \n",
       "...            ...          ...  \n",
       "2658  50640.417969  24324345758  \n",
       "2659  47588.855469  33430376883  \n",
       "2660  46444.710938  30049226299  \n",
       "2661  47178.125000  26686491018  \n",
       "2662  46306.445313  36974172400  \n",
       "\n",
       "[2663 rows x 7 columns]"
      ]
     },
     "execution_count": 3,
     "metadata": {},
     "output_type": "execute_result"
    }
   ],
   "source": [
    "data_training = data[data['Date']< '2022-01-01'].copy()\n",
    "data_training"
   ]
  },
  {
   "cell_type": "code",
   "execution_count": 4,
   "metadata": {},
   "outputs": [
    {
     "data": {
      "text/html": [
       "<div>\n",
       "<style scoped>\n",
       "    .dataframe tbody tr th:only-of-type {\n",
       "        vertical-align: middle;\n",
       "    }\n",
       "\n",
       "    .dataframe tbody tr th {\n",
       "        vertical-align: top;\n",
       "    }\n",
       "\n",
       "    .dataframe thead th {\n",
       "        text-align: right;\n",
       "    }\n",
       "</style>\n",
       "<table border=\"1\" class=\"dataframe\">\n",
       "  <thead>\n",
       "    <tr style=\"text-align: right;\">\n",
       "      <th></th>\n",
       "      <th>Date</th>\n",
       "      <th>Open</th>\n",
       "      <th>High</th>\n",
       "      <th>Low</th>\n",
       "      <th>Close</th>\n",
       "      <th>Adj Close</th>\n",
       "      <th>Volume</th>\n",
       "    </tr>\n",
       "  </thead>\n",
       "  <tbody>\n",
       "    <tr>\n",
       "      <th>2664</th>\n",
       "      <td>2022-01-02</td>\n",
       "      <td>47680.925781</td>\n",
       "      <td>47881.406250</td>\n",
       "      <td>46856.937500</td>\n",
       "      <td>47345.218750</td>\n",
       "      <td>47345.218750</td>\n",
       "      <td>27951569547</td>\n",
       "    </tr>\n",
       "    <tr>\n",
       "      <th>2665</th>\n",
       "      <td>2022-01-03</td>\n",
       "      <td>47343.542969</td>\n",
       "      <td>47510.726563</td>\n",
       "      <td>45835.964844</td>\n",
       "      <td>46458.117188</td>\n",
       "      <td>46458.117188</td>\n",
       "      <td>33071628362</td>\n",
       "    </tr>\n",
       "    <tr>\n",
       "      <th>2666</th>\n",
       "      <td>2022-01-04</td>\n",
       "      <td>46458.851563</td>\n",
       "      <td>47406.546875</td>\n",
       "      <td>45752.464844</td>\n",
       "      <td>45897.574219</td>\n",
       "      <td>45897.574219</td>\n",
       "      <td>42494677905</td>\n",
       "    </tr>\n",
       "    <tr>\n",
       "      <th>2667</th>\n",
       "      <td>2022-01-05</td>\n",
       "      <td>45899.359375</td>\n",
       "      <td>46929.046875</td>\n",
       "      <td>42798.222656</td>\n",
       "      <td>43569.003906</td>\n",
       "      <td>43569.003906</td>\n",
       "      <td>36851084859</td>\n",
       "    </tr>\n",
       "    <tr>\n",
       "      <th>2668</th>\n",
       "      <td>2022-01-06</td>\n",
       "      <td>43565.511719</td>\n",
       "      <td>43748.718750</td>\n",
       "      <td>42645.539063</td>\n",
       "      <td>43160.929688</td>\n",
       "      <td>43160.929688</td>\n",
       "      <td>30208048289</td>\n",
       "    </tr>\n",
       "    <tr>\n",
       "      <th>...</th>\n",
       "      <td>...</td>\n",
       "      <td>...</td>\n",
       "      <td>...</td>\n",
       "      <td>...</td>\n",
       "      <td>...</td>\n",
       "      <td>...</td>\n",
       "      <td>...</td>\n",
       "    </tr>\n",
       "    <tr>\n",
       "      <th>2869</th>\n",
       "      <td>2022-07-26</td>\n",
       "      <td>21361.121094</td>\n",
       "      <td>21361.121094</td>\n",
       "      <td>20776.816406</td>\n",
       "      <td>21239.753906</td>\n",
       "      <td>21239.753906</td>\n",
       "      <td>28624673855</td>\n",
       "    </tr>\n",
       "    <tr>\n",
       "      <th>2870</th>\n",
       "      <td>2022-07-27</td>\n",
       "      <td>21244.169922</td>\n",
       "      <td>22986.529297</td>\n",
       "      <td>21070.806641</td>\n",
       "      <td>22930.548828</td>\n",
       "      <td>22930.548828</td>\n",
       "      <td>31758955233</td>\n",
       "    </tr>\n",
       "    <tr>\n",
       "      <th>2871</th>\n",
       "      <td>2022-07-28</td>\n",
       "      <td>22933.640625</td>\n",
       "      <td>24110.470703</td>\n",
       "      <td>22722.265625</td>\n",
       "      <td>23843.886719</td>\n",
       "      <td>23843.886719</td>\n",
       "      <td>40212386158</td>\n",
       "    </tr>\n",
       "    <tr>\n",
       "      <th>2872</th>\n",
       "      <td>2022-07-29</td>\n",
       "      <td>23845.212891</td>\n",
       "      <td>24294.787109</td>\n",
       "      <td>23481.173828</td>\n",
       "      <td>23804.632813</td>\n",
       "      <td>23804.632813</td>\n",
       "      <td>35887249746</td>\n",
       "    </tr>\n",
       "    <tr>\n",
       "      <th>2873</th>\n",
       "      <td>2022-07-30</td>\n",
       "      <td>23809.408203</td>\n",
       "      <td>23934.220703</td>\n",
       "      <td>23752.726563</td>\n",
       "      <td>23770.847656</td>\n",
       "      <td>23770.847656</td>\n",
       "      <td>35147595776</td>\n",
       "    </tr>\n",
       "  </tbody>\n",
       "</table>\n",
       "<p>210 rows × 7 columns</p>\n",
       "</div>"
      ],
      "text/plain": [
       "            Date          Open          High           Low         Close  \\\n",
       "2664  2022-01-02  47680.925781  47881.406250  46856.937500  47345.218750   \n",
       "2665  2022-01-03  47343.542969  47510.726563  45835.964844  46458.117188   \n",
       "2666  2022-01-04  46458.851563  47406.546875  45752.464844  45897.574219   \n",
       "2667  2022-01-05  45899.359375  46929.046875  42798.222656  43569.003906   \n",
       "2668  2022-01-06  43565.511719  43748.718750  42645.539063  43160.929688   \n",
       "...          ...           ...           ...           ...           ...   \n",
       "2869  2022-07-26  21361.121094  21361.121094  20776.816406  21239.753906   \n",
       "2870  2022-07-27  21244.169922  22986.529297  21070.806641  22930.548828   \n",
       "2871  2022-07-28  22933.640625  24110.470703  22722.265625  23843.886719   \n",
       "2872  2022-07-29  23845.212891  24294.787109  23481.173828  23804.632813   \n",
       "2873  2022-07-30  23809.408203  23934.220703  23752.726563  23770.847656   \n",
       "\n",
       "         Adj Close       Volume  \n",
       "2664  47345.218750  27951569547  \n",
       "2665  46458.117188  33071628362  \n",
       "2666  45897.574219  42494677905  \n",
       "2667  43569.003906  36851084859  \n",
       "2668  43160.929688  30208048289  \n",
       "...            ...          ...  \n",
       "2869  21239.753906  28624673855  \n",
       "2870  22930.548828  31758955233  \n",
       "2871  23843.886719  40212386158  \n",
       "2872  23804.632813  35887249746  \n",
       "2873  23770.847656  35147595776  \n",
       "\n",
       "[210 rows x 7 columns]"
      ]
     },
     "execution_count": 4,
     "metadata": {},
     "output_type": "execute_result"
    }
   ],
   "source": [
    "data_test = data[data['Date']> '2022-01-01'].copy()\n",
    "data_test"
   ]
  },
  {
   "cell_type": "code",
   "execution_count": 5,
   "metadata": {},
   "outputs": [
    {
     "data": {
      "text/html": [
       "<div>\n",
       "<style scoped>\n",
       "    .dataframe tbody tr th:only-of-type {\n",
       "        vertical-align: middle;\n",
       "    }\n",
       "\n",
       "    .dataframe tbody tr th {\n",
       "        vertical-align: top;\n",
       "    }\n",
       "\n",
       "    .dataframe thead th {\n",
       "        text-align: right;\n",
       "    }\n",
       "</style>\n",
       "<table border=\"1\" class=\"dataframe\">\n",
       "  <thead>\n",
       "    <tr style=\"text-align: right;\">\n",
       "      <th></th>\n",
       "      <th>Open</th>\n",
       "      <th>High</th>\n",
       "      <th>Low</th>\n",
       "      <th>Close</th>\n",
       "      <th>Volume</th>\n",
       "    </tr>\n",
       "  </thead>\n",
       "  <tbody>\n",
       "    <tr>\n",
       "      <th>0</th>\n",
       "      <td>465.864014</td>\n",
       "      <td>468.174011</td>\n",
       "      <td>452.421997</td>\n",
       "      <td>457.334015</td>\n",
       "      <td>21056800</td>\n",
       "    </tr>\n",
       "    <tr>\n",
       "      <th>1</th>\n",
       "      <td>456.859985</td>\n",
       "      <td>456.859985</td>\n",
       "      <td>413.104004</td>\n",
       "      <td>424.440002</td>\n",
       "      <td>34483200</td>\n",
       "    </tr>\n",
       "    <tr>\n",
       "      <th>2</th>\n",
       "      <td>424.102997</td>\n",
       "      <td>427.834991</td>\n",
       "      <td>384.532013</td>\n",
       "      <td>394.795990</td>\n",
       "      <td>37919700</td>\n",
       "    </tr>\n",
       "    <tr>\n",
       "      <th>3</th>\n",
       "      <td>394.673004</td>\n",
       "      <td>423.295990</td>\n",
       "      <td>389.882996</td>\n",
       "      <td>408.903992</td>\n",
       "      <td>36863600</td>\n",
       "    </tr>\n",
       "    <tr>\n",
       "      <th>4</th>\n",
       "      <td>408.084991</td>\n",
       "      <td>412.425995</td>\n",
       "      <td>393.181000</td>\n",
       "      <td>398.821014</td>\n",
       "      <td>26580100</td>\n",
       "    </tr>\n",
       "  </tbody>\n",
       "</table>\n",
       "</div>"
      ],
      "text/plain": [
       "         Open        High         Low       Close    Volume\n",
       "0  465.864014  468.174011  452.421997  457.334015  21056800\n",
       "1  456.859985  456.859985  413.104004  424.440002  34483200\n",
       "2  424.102997  427.834991  384.532013  394.795990  37919700\n",
       "3  394.673004  423.295990  389.882996  408.903992  36863600\n",
       "4  408.084991  412.425995  393.181000  398.821014  26580100"
      ]
     },
     "execution_count": 5,
     "metadata": {},
     "output_type": "execute_result"
    }
   ],
   "source": [
    "training_data = data_training.drop(['Date', 'Adj Close'], axis = 1)\n",
    "training_data.head()"
   ]
  },
  {
   "cell_type": "code",
   "execution_count": 6,
   "metadata": {},
   "outputs": [
    {
     "data": {
      "text/plain": [
       "array([[4.28907290e-03, 3.73944128e-03, 4.24270741e-03, 4.14358659e-03,\n",
       "        4.31449241e-05],\n",
       "       [4.15542811e-03, 3.57446063e-03, 3.64887469e-03, 3.65546320e-03,\n",
       "        8.14009147e-05],\n",
       "       [3.66922344e-03, 3.15121937e-03, 3.21734240e-03, 3.21556748e-03,\n",
       "        9.11925723e-05],\n",
       "       ...,\n",
       "       [7.04244855e-01, 6.98592628e-01, 6.95206192e-01, 6.86563039e-01,\n",
       "        8.56027417e-02],\n",
       "       [6.87424046e-01, 6.95096205e-01, 6.93073850e-01, 6.97446374e-01,\n",
       "        7.60212627e-02],\n",
       "       [6.97498813e-01, 7.03736926e-01, 6.89443622e-01, 6.84511277e-01,\n",
       "        1.05334067e-01]])"
      ]
     },
     "execution_count": 6,
     "metadata": {},
     "output_type": "execute_result"
    }
   ],
   "source": [
    "scaler = MinMaxScaler()\n",
    "training_data = scaler.fit_transform(training_data)\n",
    "training_data"
   ]
  },
  {
   "cell_type": "code",
   "execution_count": 7,
   "metadata": {},
   "outputs": [],
   "source": [
    "X_train = []\n",
    "Y_train = []"
   ]
  },
  {
   "cell_type": "code",
   "execution_count": 8,
   "metadata": {},
   "outputs": [
    {
     "data": {
      "text/plain": [
       "2663"
      ]
     },
     "execution_count": 8,
     "metadata": {},
     "output_type": "execute_result"
    }
   ],
   "source": [
    "training_data.shape[0]"
   ]
  },
  {
   "cell_type": "code",
   "execution_count": 9,
   "metadata": {},
   "outputs": [],
   "source": [
    "for i in range(60, training_data.shape[0]):\n",
    "    X_train.append(training_data[i-60:i])\n",
    "    Y_train.append(training_data[i,0])"
   ]
  },
  {
   "cell_type": "code",
   "execution_count": 10,
   "metadata": {},
   "outputs": [],
   "source": [
    "X_train, Y_train = np.array(X_train), np.array(Y_train)"
   ]
  },
  {
   "cell_type": "code",
   "execution_count": 11,
   "metadata": {},
   "outputs": [
    {
     "data": {
      "text/plain": [
       "(2603, 60, 5)"
      ]
     },
     "execution_count": 11,
     "metadata": {},
     "output_type": "execute_result"
    }
   ],
   "source": [
    "X_train.shape"
   ]
  },
  {
   "cell_type": "markdown",
   "metadata": {},
   "source": [
    "# Building LSTM"
   ]
  },
  {
   "cell_type": "code",
   "execution_count": 12,
   "metadata": {},
   "outputs": [],
   "source": [
    "from tensorflow.keras import Sequential\n",
    "from tensorflow.keras.layers import Dense, LSTM, Dropout"
   ]
  },
  {
   "cell_type": "code",
   "execution_count": 13,
   "metadata": {},
   "outputs": [],
   "source": [
    "regressor = Sequential()"
   ]
  },
  {
   "cell_type": "code",
   "execution_count": 14,
   "metadata": {},
   "outputs": [],
   "source": [
    "regressor.add(LSTM(units = 50, activation = 'relu', return_sequences = True, input_shape = (X_train.shape[1], 5)))\n",
    "regressor.add(Dropout(0.2))\n",
    "\n",
    "regressor.add(LSTM(units = 60, activation = 'relu', return_sequences = True))\n",
    "regressor.add(Dropout(0.3))\n",
    "\n",
    "regressor.add(LSTM(units = 80, activation = 'relu', return_sequences = True))\n",
    "regressor.add(Dropout(0.4))\n",
    "\n",
    "regressor.add(LSTM(units = 120, activation = 'relu'))\n",
    "regressor.add(Dropout(0.5))\n",
    "\n",
    "regressor.add(Dense(units =1))"
   ]
  },
  {
   "cell_type": "code",
   "execution_count": 15,
   "metadata": {},
   "outputs": [
    {
     "name": "stdout",
     "output_type": "stream",
     "text": [
      "Model: \"sequential\"\n",
      "_________________________________________________________________\n",
      " Layer (type)                Output Shape              Param #   \n",
      "=================================================================\n",
      " lstm (LSTM)                 (None, 60, 50)            11200     \n",
      "                                                                 \n",
      " dropout (Dropout)           (None, 60, 50)            0         \n",
      "                                                                 \n",
      " lstm_1 (LSTM)               (None, 60, 60)            26640     \n",
      "                                                                 \n",
      " dropout_1 (Dropout)         (None, 60, 60)            0         \n",
      "                                                                 \n",
      " lstm_2 (LSTM)               (None, 60, 80)            45120     \n",
      "                                                                 \n",
      " dropout_2 (Dropout)         (None, 60, 80)            0         \n",
      "                                                                 \n",
      " lstm_3 (LSTM)               (None, 120)               96480     \n",
      "                                                                 \n",
      " dropout_3 (Dropout)         (None, 120)               0         \n",
      "                                                                 \n",
      " dense (Dense)               (None, 1)                 121       \n",
      "                                                                 \n",
      "=================================================================\n",
      "Total params: 179,561\n",
      "Trainable params: 179,561\n",
      "Non-trainable params: 0\n",
      "_________________________________________________________________\n"
     ]
    }
   ],
   "source": [
    "regressor.summary()"
   ]
  },
  {
   "cell_type": "code",
   "execution_count": 16,
   "metadata": {},
   "outputs": [],
   "source": [
    "regressor.compile(optimizer = 'adam', loss = 'mean_squared_error')"
   ]
  },
  {
   "cell_type": "code",
   "execution_count": 17,
   "metadata": {
    "scrolled": true
   },
   "outputs": [
    {
     "name": "stdout",
     "output_type": "stream",
     "text": [
      "Epoch 1/20\n",
      "53/53 [==============================] - 7s 86ms/step - loss: 0.0217\n",
      "Epoch 2/20\n",
      "53/53 [==============================] - 5s 95ms/step - loss: 0.0047\n",
      "Epoch 3/20\n",
      "53/53 [==============================] - 5s 95ms/step - loss: 0.0043\n",
      "Epoch 4/20\n",
      "53/53 [==============================] - 5s 96ms/step - loss: 0.0034\n",
      "Epoch 5/20\n",
      "53/53 [==============================] - 5s 93ms/step - loss: 0.0035\n",
      "Epoch 6/20\n",
      "53/53 [==============================] - 5s 98ms/step - loss: 0.0033\n",
      "Epoch 7/20\n",
      "53/53 [==============================] - 5s 95ms/step - loss: 0.0035\n",
      "Epoch 8/20\n",
      "53/53 [==============================] - 5s 99ms/step - loss: 0.0041\n",
      "Epoch 9/20\n",
      "53/53 [==============================] - 5s 96ms/step - loss: 0.0031\n",
      "Epoch 10/20\n",
      "53/53 [==============================] - 5s 91ms/step - loss: 0.0028\n",
      "Epoch 11/20\n",
      "53/53 [==============================] - 5s 103ms/step - loss: 0.0028\n",
      "Epoch 12/20\n",
      "53/53 [==============================] - 5s 102ms/step - loss: 0.0027\n",
      "Epoch 13/20\n",
      "53/53 [==============================] - 5s 102ms/step - loss: 0.0028\n",
      "Epoch 14/20\n",
      "53/53 [==============================] - 5s 102ms/step - loss: 0.0028\n",
      "Epoch 15/20\n",
      "53/53 [==============================] - 6s 105ms/step - loss: 0.0031\n",
      "Epoch 16/20\n",
      "53/53 [==============================] - 6s 106ms/step - loss: 0.0029\n",
      "Epoch 17/20\n",
      "53/53 [==============================] - 5s 102ms/step - loss: 0.0025\n",
      "Epoch 18/20\n",
      "53/53 [==============================] - 5s 99ms/step - loss: 0.0025\n",
      "Epoch 19/20\n",
      "53/53 [==============================] - 5s 103ms/step - loss: 0.0026\n",
      "Epoch 20/20\n",
      "53/53 [==============================] - 6s 109ms/step - loss: 0.0025\n"
     ]
    },
    {
     "data": {
      "text/plain": [
       "<keras.callbacks.History at 0x1b2a7b1bd60>"
      ]
     },
     "execution_count": 17,
     "metadata": {},
     "output_type": "execute_result"
    }
   ],
   "source": [
    "regressor.fit(X_train, Y_train, epochs = 20, batch_size = 50)"
   ]
  },
  {
   "cell_type": "markdown",
   "metadata": {},
   "source": [
    " # Test Dataset"
   ]
  },
  {
   "cell_type": "code",
   "execution_count": 18,
   "metadata": {},
   "outputs": [
    {
     "name": "stderr",
     "output_type": "stream",
     "text": [
      "C:\\Users\\RUSHI LUNAGARIYA\\AppData\\Local\\Temp\\ipykernel_19724\\1802083127.py:2: FutureWarning: The frame.append method is deprecated and will be removed from pandas in a future version. Use pandas.concat instead.\n",
      "  df= past_60_days.append(data_test, ignore_index = True)\n"
     ]
    },
    {
     "data": {
      "text/html": [
       "<div>\n",
       "<style scoped>\n",
       "    .dataframe tbody tr th:only-of-type {\n",
       "        vertical-align: middle;\n",
       "    }\n",
       "\n",
       "    .dataframe tbody tr th {\n",
       "        vertical-align: top;\n",
       "    }\n",
       "\n",
       "    .dataframe thead th {\n",
       "        text-align: right;\n",
       "    }\n",
       "</style>\n",
       "<table border=\"1\" class=\"dataframe\">\n",
       "  <thead>\n",
       "    <tr style=\"text-align: right;\">\n",
       "      <th></th>\n",
       "      <th>Open</th>\n",
       "      <th>High</th>\n",
       "      <th>Low</th>\n",
       "      <th>Close</th>\n",
       "      <th>Volume</th>\n",
       "    </tr>\n",
       "  </thead>\n",
       "  <tbody>\n",
       "    <tr>\n",
       "      <th>0</th>\n",
       "      <td>60963.253906</td>\n",
       "      <td>64242.792969</td>\n",
       "      <td>60673.054688</td>\n",
       "      <td>63226.402344</td>\n",
       "      <td>37746665647</td>\n",
       "    </tr>\n",
       "    <tr>\n",
       "      <th>1</th>\n",
       "      <td>63254.335938</td>\n",
       "      <td>63516.937500</td>\n",
       "      <td>61184.238281</td>\n",
       "      <td>62970.046875</td>\n",
       "      <td>36124731509</td>\n",
       "    </tr>\n",
       "    <tr>\n",
       "      <th>2</th>\n",
       "      <td>62941.804688</td>\n",
       "      <td>63123.289063</td>\n",
       "      <td>60799.664063</td>\n",
       "      <td>61452.230469</td>\n",
       "      <td>32615846901</td>\n",
       "    </tr>\n",
       "    <tr>\n",
       "      <th>3</th>\n",
       "      <td>61460.078125</td>\n",
       "      <td>62541.468750</td>\n",
       "      <td>60844.609375</td>\n",
       "      <td>61125.675781</td>\n",
       "      <td>30605102446</td>\n",
       "    </tr>\n",
       "    <tr>\n",
       "      <th>4</th>\n",
       "      <td>61068.875000</td>\n",
       "      <td>61590.683594</td>\n",
       "      <td>60163.781250</td>\n",
       "      <td>61527.480469</td>\n",
       "      <td>29094934221</td>\n",
       "    </tr>\n",
       "  </tbody>\n",
       "</table>\n",
       "</div>"
      ],
      "text/plain": [
       "           Open          High           Low         Close       Volume\n",
       "0  60963.253906  64242.792969  60673.054688  63226.402344  37746665647\n",
       "1  63254.335938  63516.937500  61184.238281  62970.046875  36124731509\n",
       "2  62941.804688  63123.289063  60799.664063  61452.230469  32615846901\n",
       "3  61460.078125  62541.468750  60844.609375  61125.675781  30605102446\n",
       "4  61068.875000  61590.683594  60163.781250  61527.480469  29094934221"
      ]
     },
     "execution_count": 18,
     "metadata": {},
     "output_type": "execute_result"
    }
   ],
   "source": [
    "past_60_days = data_training.tail(60)\n",
    "df= past_60_days.append(data_test, ignore_index = True)\n",
    "df = df.drop(['Date', 'Adj Close'], axis = 1)\n",
    "df.head()"
   ]
  },
  {
   "cell_type": "code",
   "execution_count": 19,
   "metadata": {},
   "outputs": [
    {
     "data": {
      "text/plain": [
       "array([[0.90223834, 0.93369828, 0.91377496, 0.93559122, 0.10753514],\n",
       "       [0.93624436, 0.92311389, 0.92149553, 0.93178709, 0.10291375],\n",
       "       [0.93160553, 0.91737372, 0.91568718, 0.90926379, 0.09291584],\n",
       "       ...,\n",
       "       [0.33777327, 0.34849043, 0.34059156, 0.35118313, 0.11456075],\n",
       "       [0.35130353, 0.35117812, 0.35205361, 0.35060063, 0.10223709],\n",
       "       [0.35077209, 0.34592036, 0.35615496, 0.35009929, 0.10012958]])"
      ]
     },
     "execution_count": 19,
     "metadata": {},
     "output_type": "execute_result"
    }
   ],
   "source": [
    "inputs = scaler.transform(df)\n",
    "inputs"
   ]
  },
  {
   "cell_type": "code",
   "execution_count": 20,
   "metadata": {},
   "outputs": [],
   "source": [
    "X_test = []\n",
    "Y_test = []\n",
    "for i in range (60, inputs.shape[0]):\n",
    "    X_test.append(inputs[i-60:i])\n",
    "    Y_test.append(inputs[i, 0])"
   ]
  },
  {
   "cell_type": "code",
   "execution_count": 21,
   "metadata": {},
   "outputs": [
    {
     "data": {
      "text/plain": [
       "((210, 60, 5), (210,))"
      ]
     },
     "execution_count": 21,
     "metadata": {},
     "output_type": "execute_result"
    }
   ],
   "source": [
    "X_test, Y_test = np.array(X_test), np.array(Y_test)\n",
    "X_test.shape, Y_test.shape"
   ]
  },
  {
   "cell_type": "code",
   "execution_count": 22,
   "metadata": {},
   "outputs": [
    {
     "name": "stdout",
     "output_type": "stream",
     "text": [
      "7/7 [==============================] - 0s 17ms/step\n"
     ]
    },
    {
     "data": {
      "text/plain": [
       "(array([[0.69359803],\n",
       "        [0.692449  ],\n",
       "        [0.69055563],\n",
       "        [0.6878312 ],\n",
       "        [0.684098  ],\n",
       "        [0.67923504],\n",
       "        [0.6732032 ],\n",
       "        [0.66626126],\n",
       "        [0.6587129 ]], dtype=float32),\n",
       " array([0.70008401, 0.68695273, 0.67864831, 0.64400753, 0.63789318,\n",
       "        0.61426191, 0.6168336 , 0.61943856, 0.61809199]))"
      ]
     },
     "execution_count": 22,
     "metadata": {},
     "output_type": "execute_result"
    }
   ],
   "source": [
    "Y_pred = regressor.predict(X_test)\n",
    "Y_pred[1:10], Y_test[1:10]"
   ]
  },
  {
   "cell_type": "code",
   "execution_count": 23,
   "metadata": {
    "scrolled": true
   },
   "outputs": [
    {
     "data": {
      "text/plain": [
       "array([1.48427770e-05, 1.45819584e-05, 1.51033327e-05, 1.48392776e-05,\n",
       "       2.84931110e-12])"
      ]
     },
     "execution_count": 23,
     "metadata": {},
     "output_type": "execute_result"
    }
   ],
   "source": [
    "scaler.scale_"
   ]
  },
  {
   "cell_type": "code",
   "execution_count": 24,
   "metadata": {},
   "outputs": [
    {
     "data": {
      "text/plain": [
       "19298.903787912797"
      ]
     },
     "execution_count": 24,
     "metadata": {},
     "output_type": "execute_result"
    }
   ],
   "source": [
    "scale = 1/5.18164146e-05\n",
    "scale"
   ]
  },
  {
   "cell_type": "code",
   "execution_count": 25,
   "metadata": {},
   "outputs": [],
   "source": [
    "Y_test = Y_test*scale\n",
    "Y_pred = Y_pred*scale"
   ]
  },
  {
   "cell_type": "code",
   "execution_count": 26,
   "metadata": {},
   "outputs": [
    {
     "data": {
      "text/plain": [
       "array([[13385.682 ],\n",
       "       [13363.507 ],\n",
       "       [13326.967 ],\n",
       "       [13274.389 ],\n",
       "       [13202.342 ],\n",
       "       [13108.492 ],\n",
       "       [12992.084 ],\n",
       "       [12858.112 ],\n",
       "       [12712.4375]], dtype=float32)"
      ]
     },
     "execution_count": 26,
     "metadata": {},
     "output_type": "execute_result"
    }
   ],
   "source": [
    "Y_pred[1:10]"
   ]
  },
  {
   "cell_type": "code",
   "execution_count": 27,
   "metadata": {},
   "outputs": [
    {
     "data": {
      "text/plain": [
       "array([13510.85389903, 13257.43464296, 13097.16848337, 12428.63939768,\n",
       "       12310.63905999, 11854.58152308, 11904.21222554, 11954.48520094,\n",
       "       11928.49775737])"
      ]
     },
     "execution_count": 27,
     "metadata": {},
     "output_type": "execute_result"
    }
   ],
   "source": [
    "Y_test[1:10]"
   ]
  },
  {
   "cell_type": "code",
   "execution_count": 28,
   "metadata": {},
   "outputs": [
    {
     "data": {
      "image/png": "[encoded data removed]",
      "text/plain": [
       "<Figure size 1080x504 with 1 Axes>"
      ]
     },
     "metadata": {
      "needs_background": "light"
     },
     "output_type": "display_data"
    }
   ],
   "source": [
    "plt.figure(figsize=(15,7))\n",
    "plt.plot(Y_test, color = 'red', label = 'Real Bitcoin Price')\n",
    "plt.plot(Y_pred, color = 'green', label = 'Predicted Bitcoin Price')\n",
    "plt.title('Bitcoin Price Prediction using RNN-LSTM')\n",
    "plt.xlabel('Time')\n",
    "plt.ylabel('Price')\n",
    "plt.legend()\n",
    "plt.show()"
   ]
  },
  {
   "cell_type": "code",
   "execution_count": null,
   "metadata": {},
   "outputs": [],
   "source": []
  },
  {
   "cell_type": "code",
   "execution_count": null,
   "metadata": {},
   "outputs": [],
   "source": []
  }
 ],
 "metadata": {
  "kernelspec": {
   "display_name": "Python 3 (ipykernel)",
   "language": "python",
   "name": "python3"
  },
  "language_info": {
   "codemirror_mode": {
    "name": "ipython",
    "version": 3
   },
   "file_extension": ".py",
   "mimetype": "text/x-python",
   "name": "python",
   "nbconvert_exporter": "python",
   "pygments_lexer": "ipython3",
   "version": "3.10.4"
  }
 },
 "nbformat": 4,
 "nbformat_minor": 2
}
